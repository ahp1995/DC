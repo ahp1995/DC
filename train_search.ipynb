{
 "cells": [
  {
   "cell_type": "code",
   "execution_count": null,
   "metadata": {},
   "outputs": [],
   "source": [
    "import torch\n",
    "import torch.nn as nn\n",
    "from operations import *\n",
    "from torch.autograd import Variable\n",
    "from utils import drop_path"
   ]
  }
 ],
 "metadata": {
  "kernelspec": {
   "display_name": "sung",
   "language": "python",
   "name": "python3"
  },
  "language_info": {
   "name": "python",
   "version": "3.9.13"
  },
  "orig_nbformat": 4
 },
 "nbformat": 4,
 "nbformat_minor": 2
}
